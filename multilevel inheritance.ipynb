{
 "cells": [
  {
   "cell_type": "code",
   "execution_count": 1,
   "metadata": {},
   "outputs": [],
   "source": [
    "class Student():\n",
    "    \n",
    "   # def __init__(self,name,age,gender,roll):\n",
    "    #    self.name = name\n",
    "     #   selg.g =    gender\n",
    "     #   self.age = age\n",
    "      #  self.roll = roll\n",
    "        \n",
    "    def getstudent(self):\n",
    "        self.name = input('Name: ').upper()\n",
    "        while True:\n",
    "            try:\n",
    "                self.roll = int(input('Roll no.: '))\n",
    "                self.age = int(input('Age: '))\n",
    "            except:\n",
    "                print('Porvide valid input')\n",
    "                continue\n",
    "            else:\n",
    "                break\n",
    "        self.g    = input('Gender: ').upper()\n",
    "        \n",
    "        \n",
    "class Test_student(Student):\n",
    "    \n",
    "  #  def __init__(self,stu_class,sub1,sub2,sub3):\n",
    "  #      self.stu_class = stu_class\n",
    "  #      self.sub1 = sub1\n",
    "   #     self.sub2 = sub2\n",
    "    #    self.sub3 = sub3\n",
    "        \n",
    "    def get_details(self):\n",
    "        self.stu_class = input('In which class do you read? : ')\n",
    "        print('Enter name of subjects : ')\n",
    "        self.sub1 = input('Enter subject1 name : ')\n",
    "        self.sub2 = input('Enter subject 2 name : ')\n",
    "        self.sub3 = input('Enter subject 3 name : ')\n",
    "        \n",
    "        print('Enter the marks of resp. subjects : ')\n",
    "        while True:\n",
    "            try:\n",
    "                self.sub1_marks = int(input(f'Enter {self.sub1} marks: '))\n",
    "                self.sub2_marks = int(input(f'Enter {self.sub2} marks: '))\n",
    "                self.sub3_marks = int(input(f'Enter {self.sub3} marks: '))\n",
    "            except:\n",
    "                print('Please provide valid input')\n",
    "                continue\n",
    "            else:\n",
    "                break\n",
    "            finally:\n",
    "                print('Good job!')\n",
    "        \n",
    "class Overall_status(Test_student):\n",
    "    \n",
    "    def get(self):\n",
    "        print(f'\\n\\nName: {self.name}')\n",
    "        print(f'Roll no.: {self.roll}')\n",
    "        print(f'Age: {self.age}')\n",
    "        print(f'Gender: {self.g}')\n",
    "        print(f'Study in: {self.stu_class}')\n",
    "        print(f'Total marks ={self.sub1_marks}+{self.sub2_marks}+{self.sub3_marks}')\n",
    "        print(f\"Percentage = {(self.sub1_marks+self.sub2_marks+self.sub3_marks)/300} \")\n",
    "        "
   ]
  },
  {
   "cell_type": "code",
   "execution_count": 2,
   "metadata": {},
   "outputs": [],
   "source": [
    "m = Overall_status()"
   ]
  },
  {
   "cell_type": "code",
   "execution_count": null,
   "metadata": {},
   "outputs": [
    {
     "name": "stdout",
     "output_type": "stream",
     "text": [
      "Name: a\n",
      "Roll no.: a\n",
      "Porvide valid input\n",
      "Roll no.: a1\n",
      "Porvide valid input\n",
      "Roll no.: 1\n",
      "Age: 1\n",
      "Gender: n\n",
      "In which class do you read? : 1\n",
      "Enter name of subjects : \n"
     ]
    }
   ],
   "source": [
    "m.getstudent()\n",
    "m.get_details()\n",
    "m.get()"
   ]
  },
  {
   "cell_type": "code",
   "execution_count": null,
   "metadata": {},
   "outputs": [],
   "source": []
  },
  {
   "cell_type": "code",
   "execution_count": null,
   "metadata": {},
   "outputs": [],
   "source": []
  }
 ],
 "metadata": {
  "kernelspec": {
   "display_name": "Python 3",
   "language": "python",
   "name": "python3"
  },
  "language_info": {
   "codemirror_mode": {
    "name": "ipython",
    "version": 3
   },
   "file_extension": ".py",
   "mimetype": "text/x-python",
   "name": "python",
   "nbconvert_exporter": "python",
   "pygments_lexer": "ipython3",
   "version": "3.6.6"
  }
 },
 "nbformat": 4,
 "nbformat_minor": 2
}
